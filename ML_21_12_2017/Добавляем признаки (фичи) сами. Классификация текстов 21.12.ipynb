{
 "cells": [
  {
   "cell_type": "code",
   "execution_count": 24,
   "metadata": {
    "collapsed": true
   },
   "outputs": [],
   "source": [
    "# -*- coding: utf-8 -*- \n",
    "featureset = ['футбол','мяч','гол', 'матч', \n",
    "              'команда', 'игра', 'кубок', 'пас',\n",
    "              'выборы','президент','министр','кандидат',\n",
    "              'комитет','налог','путин','чиновник', 'депутат']"
   ]
  },
  {
   "cell_type": "code",
   "execution_count": 25,
   "metadata": {},
   "outputs": [],
   "source": [
    "import re, codecs\n",
    "from os import walk\n",
    "from pymystem3 import Mystem\n",
    "m = Mystem()\n",
    "\n",
    "address = 'texts'"
   ]
  },
  {
   "cell_type": "code",
   "execution_count": 26,
   "metadata": {
    "collapsed": true
   },
   "outputs": [],
   "source": [
    "def feature_adder (feature_dict, token):\n",
    "    for feature in feature_dict:\n",
    "        if feature in token:\n",
    "            feature_dict[feature] +=1"
   ]
  },
  {
   "cell_type": "code",
   "execution_count": 20,
   "metadata": {
    "collapsed": true
   },
   "outputs": [],
   "source": [
    "def initialize_featuredict():\n",
    "    newdict ={}\n",
    "    for someft in featureset:\n",
    "        newdict[someft] = 0\n",
    "    return newdict"
   ]
  },
  {
   "cell_type": "code",
   "execution_count": 36,
   "metadata": {},
   "outputs": [],
   "source": [
    "mydata = []\n",
    "mytarget = []\n",
    "for path, dirs, filenames in walk (address):\n",
    "    for filename in filenames:\n",
    "        featuredict = initialize_featuredict ()\n",
    "        if '.txt' in filename:\n",
    "            if re.match('sport', filename) !=None:\n",
    "                txtclass = u'спорт'\n",
    "            else:\n",
    "                txtclass = u'политика'\n",
    "            features_list = []\n",
    "            #print (filename)\n",
    "            openfile = codecs.open (path+'/'+filename, 'r', 'utf-8')\n",
    "            for line in openfile:\n",
    "                lemline = m.lemmatize(line)\n",
    "                for token in lemline:\n",
    "                    feature_adder (featuredict, token)\n",
    "            mytarget.append (txtclass)\n",
    "            for feat in featureset:\n",
    "                features_list.append (featuredict[feat])\n",
    "            mydata.append (features_list)"
   ]
  },
  {
   "cell_type": "code",
   "execution_count": 45,
   "metadata": {},
   "outputs": [
    {
     "name": "stdout",
     "output_type": "stream",
     "text": [
      "[0, 0, 0, 0, 0, 0, 0, 2, 0, 8, 0, 0, 0, 0, 7, 0, 0]\n",
      "политика\n",
      "['футбол', 'мяч', 'гол', 'матч', 'команда', 'игра', 'кубок', 'пас', 'выборы', 'президент', 'министр', 'кандидат', 'комитет', 'налог', 'путин', 'чиновник', 'депутат']\n",
      "[1, 2, 0, 1, 0, 3, 1, 0, 0, 0, 0, 0, 0, 0, 0, 0, 0]\n",
      "спорт\n",
      "['футбол', 'мяч', 'гол', 'матч', 'команда', 'игра', 'кубок', 'пас', 'выборы', 'президент', 'министр', 'кандидат', 'комитет', 'налог', 'путин', 'чиновник', 'депутат']\n",
      "[6, 0, 4, 7, 2, 3, 2, 2, 0, 0, 0, 0, 1, 0, 0, 0, 0]\n",
      "спорт\n",
      "['футбол', 'мяч', 'гол', 'матч', 'команда', 'игра', 'кубок', 'пас', 'выборы', 'президент', 'министр', 'кандидат', 'комитет', 'налог', 'путин', 'чиновник', 'депутат']\n",
      "[0, 0, 0, 0, 0, 0, 0, 5, 0, 1, 0, 0, 0, 0, 1, 0, 0]\n",
      "политика\n",
      "['футбол', 'мяч', 'гол', 'матч', 'команда', 'игра', 'кубок', 'пас', 'выборы', 'президент', 'министр', 'кандидат', 'комитет', 'налог', 'путин', 'чиновник', 'депутат']\n",
      "[0, 0, 0, 4, 0, 0, 0, 0, 0, 1, 0, 0, 0, 0, 0, 0, 0]\n",
      "спорт\n",
      "['футбол', 'мяч', 'гол', 'матч', 'команда', 'игра', 'кубок', 'пас', 'выборы', 'президент', 'министр', 'кандидат', 'комитет', 'налог', 'путин', 'чиновник', 'депутат']\n",
      "[0, 0, 0, 3, 0, 0, 0, 0, 0, 0, 0, 0, 0, 0, 0, 0, 0]\n",
      "спорт\n",
      "['футбол', 'мяч', 'гол', 'матч', 'команда', 'игра', 'кубок', 'пас', 'выборы', 'президент', 'министр', 'кандидат', 'комитет', 'налог', 'путин', 'чиновник', 'депутат']\n",
      "[0, 1, 5, 2, 0, 0, 0, 0, 0, 0, 0, 0, 0, 0, 0, 0, 0]\n",
      "спорт\n",
      "['футбол', 'мяч', 'гол', 'матч', 'команда', 'игра', 'кубок', 'пас', 'выборы', 'президент', 'министр', 'кандидат', 'комитет', 'налог', 'путин', 'чиновник', 'депутат']\n",
      "[0, 0, 1, 1, 1, 1, 1, 0, 0, 0, 0, 0, 0, 0, 0, 0, 0]\n",
      "спорт\n",
      "['футбол', 'мяч', 'гол', 'матч', 'команда', 'игра', 'кубок', 'пас', 'выборы', 'президент', 'министр', 'кандидат', 'комитет', 'налог', 'путин', 'чиновник', 'депутат']\n",
      "[0, 0, 1, 0, 0, 0, 0, 0, 2, 3, 0, 4, 0, 1, 0, 0, 0]\n",
      "политика\n",
      "['футбол', 'мяч', 'гол', 'матч', 'команда', 'игра', 'кубок', 'пас', 'выборы', 'президент', 'министр', 'кандидат', 'комитет', 'налог', 'путин', 'чиновник', 'депутат']\n",
      "[0, 0, 1, 0, 0, 0, 0, 0, 0, 1, 1, 0, 0, 0, 1, 0, 0]\n",
      "политика\n",
      "['футбол', 'мяч', 'гол', 'матч', 'команда', 'игра', 'кубок', 'пас', 'выборы', 'президент', 'министр', 'кандидат', 'комитет', 'налог', 'путин', 'чиновник', 'депутат']\n",
      "[2, 0, 0, 3, 0, 2, 5, 0, 0, 0, 0, 0, 0, 0, 0, 0, 0]\n",
      "спорт\n",
      "['футбол', 'мяч', 'гол', 'матч', 'команда', 'игра', 'кубок', 'пас', 'выборы', 'президент', 'министр', 'кандидат', 'комитет', 'налог', 'путин', 'чиновник', 'депутат']\n",
      "[0, 0, 0, 0, 2, 2, 0, 2, 0, 0, 0, 0, 0, 0, 0, 0, 0]\n",
      "спорт\n",
      "['футбол', 'мяч', 'гол', 'матч', 'команда', 'игра', 'кубок', 'пас', 'выборы', 'президент', 'министр', 'кандидат', 'комитет', 'налог', 'путин', 'чиновник', 'депутат']\n",
      "[0, 0, 2, 1, 0, 0, 4, 1, 0, 0, 0, 0, 0, 0, 0, 0, 0]\n",
      "спорт\n",
      "['футбол', 'мяч', 'гол', 'матч', 'команда', 'игра', 'кубок', 'пас', 'выборы', 'президент', 'министр', 'кандидат', 'комитет', 'налог', 'путин', 'чиновник', 'депутат']\n",
      "[0, 0, 0, 1, 0, 0, 0, 0, 0, 0, 0, 0, 0, 0, 0, 0, 0]\n",
      "спорт\n",
      "['футбол', 'мяч', 'гол', 'матч', 'команда', 'игра', 'кубок', 'пас', 'выборы', 'президент', 'министр', 'кандидат', 'комитет', 'налог', 'путин', 'чиновник', 'депутат']\n",
      "[0, 0, 1, 0, 0, 0, 0, 0, 0, 0, 2, 0, 0, 0, 0, 0, 0]\n",
      "политика\n",
      "['футбол', 'мяч', 'гол', 'матч', 'команда', 'игра', 'кубок', 'пас', 'выборы', 'президент', 'министр', 'кандидат', 'комитет', 'налог', 'путин', 'чиновник', 'депутат']\n",
      "[0, 0, 0, 0, 0, 0, 0, 0, 0, 0, 2, 0, 0, 1, 0, 1, 0]\n",
      "политика\n",
      "['футбол', 'мяч', 'гол', 'матч', 'команда', 'игра', 'кубок', 'пас', 'выборы', 'президент', 'министр', 'кандидат', 'комитет', 'налог', 'путин', 'чиновник', 'депутат']\n",
      "[2, 0, 0, 1, 0, 1, 0, 0, 0, 0, 0, 0, 2, 0, 0, 0, 0]\n",
      "спорт\n",
      "['футбол', 'мяч', 'гол', 'матч', 'команда', 'игра', 'кубок', 'пас', 'выборы', 'президент', 'министр', 'кандидат', 'комитет', 'налог', 'путин', 'чиновник', 'депутат']\n",
      "[5, 1, 2, 0, 3, 4, 0, 1, 0, 0, 0, 0, 0, 0, 0, 0, 0]\n",
      "спорт\n",
      "['футбол', 'мяч', 'гол', 'матч', 'команда', 'игра', 'кубок', 'пас', 'выборы', 'президент', 'министр', 'кандидат', 'комитет', 'налог', 'путин', 'чиновник', 'депутат']\n",
      "[0, 0, 0, 1, 1, 0, 0, 0, 0, 0, 0, 0, 0, 0, 0, 0, 0]\n",
      "спорт\n",
      "['футбол', 'мяч', 'гол', 'матч', 'команда', 'игра', 'кубок', 'пас', 'выборы', 'президент', 'министр', 'кандидат', 'комитет', 'налог', 'путин', 'чиновник', 'депутат']\n",
      "[1, 0, 0, 0, 0, 0, 0, 0, 0, 0, 0, 0, 0, 0, 0, 0, 0]\n",
      "спорт\n",
      "['футбол', 'мяч', 'гол', 'матч', 'команда', 'игра', 'кубок', 'пас', 'выборы', 'президент', 'министр', 'кандидат', 'комитет', 'налог', 'путин', 'чиновник', 'депутат']\n",
      "[0, 0, 0, 0, 0, 0, 0, 0, 0, 0, 2, 0, 0, 0, 0, 0, 1]\n",
      "политика\n",
      "['футбол', 'мяч', 'гол', 'матч', 'команда', 'игра', 'кубок', 'пас', 'выборы', 'президент', 'министр', 'кандидат', 'комитет', 'налог', 'путин', 'чиновник', 'депутат']\n",
      "[0, 0, 0, 0, 0, 0, 0, 0, 0, 2, 0, 0, 2, 0, 0, 0, 0]\n",
      "политика\n",
      "['футбол', 'мяч', 'гол', 'матч', 'команда', 'игра', 'кубок', 'пас', 'выборы', 'президент', 'министр', 'кандидат', 'комитет', 'налог', 'путин', 'чиновник', 'депутат']\n",
      "[0, 0, 0, 0, 2, 0, 0, 0, 4, 3, 0, 0, 0, 0, 0, 0, 0]\n",
      "политика\n",
      "['футбол', 'мяч', 'гол', 'матч', 'команда', 'игра', 'кубок', 'пас', 'выборы', 'президент', 'министр', 'кандидат', 'комитет', 'налог', 'путин', 'чиновник', 'депутат']\n",
      "[0, 0, 0, 0, 0, 0, 0, 0, 4, 3, 0, 3, 0, 0, 0, 0, 0]\n",
      "политика\n",
      "['футбол', 'мяч', 'гол', 'матч', 'команда', 'игра', 'кубок', 'пас', 'выборы', 'президент', 'министр', 'кандидат', 'комитет', 'налог', 'путин', 'чиновник', 'депутат']\n",
      "[0, 0, 0, 0, 0, 0, 0, 0, 1, 1, 0, 1, 0, 0, 0, 0, 1]\n",
      "политика\n",
      "['футбол', 'мяч', 'гол', 'матч', 'команда', 'игра', 'кубок', 'пас', 'выборы', 'президент', 'министр', 'кандидат', 'комитет', 'налог', 'путин', 'чиновник', 'депутат']\n",
      "[0, 0, 0, 0, 0, 0, 0, 0, 0, 1, 4, 0, 0, 0, 0, 1, 0]\n",
      "политика\n",
      "['футбол', 'мяч', 'гол', 'матч', 'команда', 'игра', 'кубок', 'пас', 'выборы', 'президент', 'министр', 'кандидат', 'комитет', 'налог', 'путин', 'чиновник', 'депутат']\n",
      "[0, 0, 0, 0, 0, 1, 0, 2, 0, 0, 0, 0, 2, 0, 0, 0, 1]\n",
      "политика\n",
      "['футбол', 'мяч', 'гол', 'матч', 'команда', 'игра', 'кубок', 'пас', 'выборы', 'президент', 'министр', 'кандидат', 'комитет', 'налог', 'путин', 'чиновник', 'депутат']\n",
      "[0, 0, 0, 0, 0, 0, 0, 2, 0, 3, 0, 0, 0, 0, 3, 0, 0]\n",
      "политика\n",
      "['футбол', 'мяч', 'гол', 'матч', 'команда', 'игра', 'кубок', 'пас', 'выборы', 'президент', 'министр', 'кандидат', 'комитет', 'налог', 'путин', 'чиновник', 'депутат']\n",
      "[5, 0, 0, 0, 1, 0, 0, 0, 6, 5, 2, 0, 0, 0, 0, 0, 0]\n",
      "спорт\n",
      "['футбол', 'мяч', 'гол', 'матч', 'команда', 'игра', 'кубок', 'пас', 'выборы', 'президент', 'министр', 'кандидат', 'комитет', 'налог', 'путин', 'чиновник', 'депутат']\n",
      "[1, 0, 0, 0, 0, 0, 0, 0, 0, 0, 0, 0, 0, 0, 0, 0, 0]\n",
      "спорт\n",
      "['футбол', 'мяч', 'гол', 'матч', 'команда', 'игра', 'кубок', 'пас', 'выборы', 'президент', 'министр', 'кандидат', 'комитет', 'налог', 'путин', 'чиновник', 'депутат']\n",
      "[0, 0, 0, 0, 0, 0, 0, 3, 0, 2, 0, 0, 0, 0, 11, 0, 0]\n",
      "политика\n",
      "['футбол', 'мяч', 'гол', 'матч', 'команда', 'игра', 'кубок', 'пас', 'выборы', 'президент', 'министр', 'кандидат', 'комитет', 'налог', 'путин', 'чиновник', 'депутат']\n"
     ]
    }
   ],
   "source": [
    "from sklearn.model_selection import train_test_split\n",
    "traindata, testdata, traintarget, testtarget = train_test_split (mydata, mytarget)"
   ]
  },
  {
   "cell_type": "code",
   "execution_count": 39,
   "metadata": {},
   "outputs": [
    {
     "data": {
      "text/plain": [
       "KNeighborsClassifier(algorithm='auto', leaf_size=30, metric='minkowski',\n",
       "           metric_params=None, n_jobs=1, n_neighbors=5, p=2,\n",
       "           weights='uniform')"
      ]
     },
     "execution_count": 39,
     "metadata": {},
     "output_type": "execute_result"
    }
   ],
   "source": [
    "from sklearn.neighbors import KNeighborsClassifier\n",
    "moy_klassifikator = KNeighborsClassifier()\n",
    "moy_klassifikator.fit(traindata, traintarget)\n"
   ]
  },
  {
   "cell_type": "code",
   "execution_count": 40,
   "metadata": {},
   "outputs": [
    {
     "data": {
      "text/plain": [
       "0.875"
      ]
     },
     "execution_count": 40,
     "metadata": {},
     "output_type": "execute_result"
    }
   ],
   "source": [
    "moy_klassifikator.score(testdata,testtarget)"
   ]
  },
  {
   "cell_type": "code",
   "execution_count": 41,
   "metadata": {
    "collapsed": true
   },
   "outputs": [],
   "source": [
    "from sklearn.metrics import confusion_matrix\n",
    "cnf_matrix = confusion_matrix(moy_klassifikator.predict(testdata), testtarget)"
   ]
  },
  {
   "cell_type": "code",
   "execution_count": 42,
   "metadata": {
    "collapsed": true
   },
   "outputs": [],
   "source": [
    "import itertools\n",
    "import matplotlib.pyplot as plt\n",
    "import numpy as np\n",
    "## Это функция, которая рисует матрицу ошибок; я украл её отсюда не глядя: http://scikit-learn.org/stable/auto_examples/model_selection/plot_confusion_matrix.html#sphx-glr-auto-examples-model-selection-plot-confusion-matrix-py\n",
    "def plot_confusion_matrix(cm, classes,\n",
    "                          normalize=False,\n",
    "                          title='Confusion matrix',\n",
    "                          cmap=plt.cm.Blues):\n",
    "    \"\"\"\n",
    "    This function prints and plots the confusion matrix.\n",
    "    Normalization can be applied by setting `normalize=True`.\n",
    "    \"\"\"\n",
    "    if normalize:\n",
    "        cm = cm.astype('float') / cm.sum(axis=1)[:, np.newaxis]\n",
    "        print(\"Normalized confusion matrix\")\n",
    "    else:\n",
    "        print('Confusion matrix, without normalization')\n",
    "\n",
    "    print(cm)\n",
    "\n",
    "    plt.imshow(cm, interpolation='nearest', cmap=cmap)\n",
    "    plt.title(title)\n",
    "    plt.colorbar()\n",
    "    tick_marks = np.arange(len(classes))\n",
    "    plt.xticks(tick_marks, classes, rotation=45)\n",
    "    plt.yticks(tick_marks, classes)\n",
    "\n",
    "    fmt = '.2f' if normalize else 'd'\n",
    "    thresh = cm.max() / 2.\n",
    "    for i, j in itertools.product(range(cm.shape[0]), range(cm.shape[1])):\n",
    "        plt.text(j, i, format(cm[i, j], fmt),\n",
    "                 horizontalalignment=\"center\",\n",
    "                 color=\"white\" if cm[i, j] > thresh else \"black\")\n",
    "\n",
    "    plt.tight_layout()\n",
    "    plt.ylabel('True label')\n",
    "    plt.xlabel('Predicted label')"
   ]
  },
  {
   "cell_type": "code",
   "execution_count": 43,
   "metadata": {},
   "outputs": [
    {
     "name": "stdout",
     "output_type": "stream",
     "text": [
      "Confusion matrix, without normalization\n",
      "[[4 0]\n",
      " [1 3]]\n"
     ]
    },
    {
     "data": {
      "image/png": "[encoded data removed]",
      "text/plain": [
       "<matplotlib.figure.Figure at 0x11298a978>"
      ]
     },
     "metadata": {},
     "output_type": "display_data"
    }
   ],
   "source": [
    "plt.figure()\n",
    "plot_confusion_matrix(cnf_matrix, classes=set(testtarget),\n",
    "                      title='Confusion matrix, without normalization')\n",
    "plt.show()\n"
   ]
  },
  {
   "cell_type": "code",
   "execution_count": 72,
   "metadata": {},
   "outputs": [
    {
     "name": "stdout",
     "output_type": "stream",
     "text": [
      "Normalized confusion matrix\n",
      "[[ 0.75  0.25]\n",
      " [ 0.25  0.75]]\n"
     ]
    },
    {
     "data": {
      "image/png": "[encoded data removed]",
      "text/plain": [
       "<matplotlib.figure.Figure at 0x11adcb4a8>"
      ]
     },
     "metadata": {},
     "output_type": "display_data"
    }
   ],
   "source": [
    "plt.figure()\n",
    "plot_confusion_matrix(cnf_matrix, classes=set(testtarget), normalize=True,\n",
    "                      title='Normalized confusion matrix')\n",
    "plt.show()"
   ]
  },
  {
   "cell_type": "code",
   "execution_count": null,
   "metadata": {
    "collapsed": true
   },
   "outputs": [],
   "source": []
  }
 ],
 "metadata": {
  "kernelspec": {
   "display_name": "Python 3",
   "language": "python",
   "name": "python3"
  },
  "language_info": {
   "codemirror_mode": {
    "name": "ipython",
    "version": 3
   },
   "file_extension": ".py",
   "mimetype": "text/x-python",
   "name": "python",
   "nbconvert_exporter": "python",
   "pygments_lexer": "ipython3",
   "version": "3.6.3"
  }
 },
 "nbformat": 4,
 "nbformat_minor": 2
}
