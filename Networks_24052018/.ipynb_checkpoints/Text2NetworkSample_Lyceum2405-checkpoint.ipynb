{
 "cells": [
  {
   "cell_type": "code",
   "execution_count": 15,
   "metadata": {},
   "outputs": [],
   "source": [
    "import re, codecs\n",
    "from pymystem3 import Mystem ## импортируем mystem -- \n",
    "##будем опираться на его данные при анализе текста"
   ]
  },
  {
   "cell_type": "code",
   "execution_count": 16,
   "metadata": {
    "collapsed": true
   },
   "outputs": [],
   "source": [
    "def check_for_name (word):\n",
    "    return_name = None\n",
    "    if 'analysis' in word:\n",
    "        if len (word['analysis'])>0:\n",
    "            word_analysis = word['analysis'][0]\n",
    "            print (word_analysis)\n",
    "            lemma = word_analysis['lex']\n",
    "            gram = word_analysis ['gr'].split (',')\n",
    "            if gram[0] == 'S': ## проверяем, что это существительное\n",
    "                if gram[1] == 'имя':\n",
    "                    return_name = lemma\n",
    "            \n",
    "        return (return_name)"
   ]
  },
  {
   "cell_type": "code",
   "execution_count": 17,
   "metadata": {
    "collapsed": true
   },
   "outputs": [],
   "source": [
    "## add edge (as string) to a dictionary of edges (one per file) \n",
    "def addedge (edgesdict, someedge):\n",
    "    if someedge in edgesdict:\n",
    "        edgesdict[someedge]+=1\n",
    "    else:\n",
    "        edgesdict[someedge]=1"
   ]
  },
  {
   "cell_type": "code",
   "execution_count": 18,
   "metadata": {
    "collapsed": true
   },
   "outputs": [],
   "source": [
    "## convert a set of nodes edges and add them to dictionary of edges (one per file) \n",
    "def nodestoedges (nodeset, edgeslist):\n",
    "    tempedgeset = set()\n",
    "    for source in nodeset:\n",
    "        for target in nodeset:\n",
    "            if source != target:\n",
    "                edge = sorted([source, target])\n",
    "                edgeasstring = ';Undirected;'.join(edge)\n",
    "                if edgeasstring not in  tempedgeset:\n",
    "                    addedge (edgeslist, edgeasstring)\n",
    "                    tempedgeset.add (edgeasstring)"
   ]
  },
  {
   "cell_type": "code",
   "execution_count": 21,
   "metadata": {
    "collapsed": true
   },
   "outputs": [],
   "source": [
    "m = Mystem() ## создаем объект-морфоанализатор \n",
    "inputfile = 'input.txt' ## входной файл\n",
    "input_text = codecs.open (inputfile, 'r','utf-8') ## откроем входной файл\n",
    "input_text_as_string = input_text.read()## cчитаем открытый файл в строку\n",
    "input_sentences = input_text_as_string.split('. ')#грубо поделим на предложения"
   ]
  },
  {
   "cell_type": "code",
   "execution_count": 19,
   "metadata": {},
   "outputs": [
    {
     "name": "stdout",
     "output_type": "stream",
     "text": [
      "{'lex': 'вася', 'gr': 'S,имя,муж,од=им,ед'}\n",
      "{'lex': 'пойти', 'gr': 'V,сов,нп=прош,ед,изъяв,муж'}\n",
      "{'lex': 'гулять', 'gr': 'V,несов,нп=инф'}\n",
      "{'lex': 'и', 'gr': 'CONJ='}\n",
      "{'lex': 'встречать', 'gr': 'V,пе=прош,ед,изъяв,муж,сов'}\n",
      "{'lex': 'петя', 'gr': 'S,имя,муж,од=вин,ед'}\n",
      "{'lex': 'даша', 'gr': 'S,имя,жен,од=им,ед'}\n",
      "{'lex': 'и', 'gr': 'CONJ='}\n",
      "{'lex': 'таня', 'gr': 'S,имя,жен,од=им,ед'}\n",
      "{'lex': 'играть', 'gr': 'V,несов,пе=непрош,мн,изъяв,3-л'}\n",
      "{'lex': 'в', 'gr': 'PR='}\n",
      "{'lex': 'кукла', 'gr': 'S,жен=(вин,мн,неод|род,ед,од|род,ед,неод|им,мн,од|им,мн,неод)'}\n",
      "{'lex': 'саша', 'gr': 'S,имя,мж,од=им,ед'}\n",
      "{'lex': 'увидеть', 'gr': 'V,сов,пе=прош,ед,изъяв,жен'}\n",
      "{'lex': 'коля', 'gr': 'S,имя,муж,од=вин,ед'}\n",
      "{'lex': 'и', 'gr': 'CONJ='}\n",
      "{'lex': 'вася', 'gr': 'S,имя,муж,од=вин,ед'}\n"
     ]
    }
   ],
   "source": [
    "edges_list = {}\n",
    "for sentence in input_sentences:\n",
    "    analysis = m.analyze (sentence)\n",
    "    names = set()\n",
    "    for word in analysis: \n",
    "        proper_name = check_for_name (word)\n",
    "        if  proper_name != None:\n",
    "            names.add(proper_name)\n",
    "            nodestoedges (names, edges_list)\n",
    "    #print (analysis)\n",
    "    #for word in words:\n",
    "        "
   ]
  },
  {
   "cell_type": "code",
   "execution_count": 20,
   "metadata": {},
   "outputs": [
    {
     "name": "stdout",
     "output_type": "stream",
     "text": [
      "{'вася;Undirected;петя': 1, 'даша;Undirected;таня': 1, 'коля;Undirected;саша': 2, 'вася;Undirected;коля': 1, 'вася;Undirected;саша': 1}\n"
     ]
    }
   ],
   "source": [
    "print (edges_list)"
   ]
  },
  {
   "cell_type": "code",
   "execution_count": null,
   "metadata": {
    "collapsed": true
   },
   "outputs": [],
   "source": [
    "outfile = codecs.open ('output_network.csv', 'w', 'utf-8')\n"
   ]
  }
 ],
 "metadata": {
  "kernelspec": {
   "display_name": "Python 3",
   "language": "python",
   "name": "python3"
  },
  "language_info": {
   "codemirror_mode": {
    "name": "ipython",
    "version": 3
   },
   "file_extension": ".py",
   "mimetype": "text/x-python",
   "name": "python",
   "nbconvert_exporter": "python",
   "pygments_lexer": "ipython3",
   "version": "3.6.3"
  }
 },
 "nbformat": 4,
 "nbformat_minor": 2
}
