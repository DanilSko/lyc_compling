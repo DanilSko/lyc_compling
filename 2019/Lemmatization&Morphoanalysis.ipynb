{
 "cells": [
  {
   "cell_type": "markdown",
   "metadata": {},
   "source": [
    "# Практикум по лемматизации и морфологическому анализу\n",
    "\n",
    "## План на сегодня\n",
    "* Как использовать этот код: чуть-чуть о Jupyter, Colab и питоновских IDE\n",
    "* Запускаем MyStem\n",
    "* Запускаем pymorphy2\n",
    "\n",
    "## Как использовать этот код"
   ]
  },
  {
   "cell_type": "markdown",
   "metadata": {},
   "source": [
    "## Как использовать этот код"
   ]
  },
  {
   "cell_type": "code",
   "execution_count": 2,
   "metadata": {},
   "outputs": [],
   "source": [
    "from pymystem3 import Mystem"
   ]
  },
  {
   "cell_type": "code",
   "execution_count": 3,
   "metadata": {},
   "outputs": [
    {
     "name": "stdout",
     "output_type": "stream",
     "text": [
      "[{'analysis': [{'lex': 'даня', 'wt': 1, 'gr': 'S,имя,муж,од=им,ед'}], 'text': 'Даня'}, {'text': ' '}, {'analysis': [{'lex': 'тестировать', 'wt': 1, 'gr': 'V,несов=непрош,ед,изъяв,3-л,пе'}], 'text': 'тестирует'}, {'text': ' '}, {'analysis': [{'lex': 'машинный', 'wt': 1, 'gr': 'A=вин,ед,полн,жен'}], 'text': 'машинную'}, {'text': ' '}, {'analysis': [{'lex': 'морфология', 'wt': 1, 'gr': 'S,жен,неод=вин,ед'}], 'text': 'морфологию'}, {'text': '\\n'}]\n",
      "['даня', ' ', 'тестировать', ' ', 'машинный', ' ', 'морфология', '\\n']\n"
     ]
    }
   ],
   "source": [
    "moi_analizator = Mystem()\n",
    "test = 'Даня тестирует машинную морфологию'\n",
    "print (moi_analizator.analyze(test))\n",
    "print (moi_analizator.lemmatize(test))"
   ]
  },
  {
   "cell_type": "code",
   "execution_count": null,
   "metadata": {},
   "outputs": [],
   "source": []
  }
 ],
 "metadata": {
  "kernelspec": {
   "display_name": "Python 3",
   "language": "python",
   "name": "python3"
  },
  "language_info": {
   "codemirror_mode": {
    "name": "ipython",
    "version": 3
   },
   "file_extension": ".py",
   "mimetype": "text/x-python",
   "name": "python",
   "nbconvert_exporter": "python",
   "pygments_lexer": "ipython3",
   "version": "3.6.5"
  }
 },
 "nbformat": 4,
 "nbformat_minor": 2
}
